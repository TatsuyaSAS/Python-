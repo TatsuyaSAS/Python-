{
 "cells": [
  {
   "cell_type": "code",
   "execution_count": null,
   "metadata": {},
   "outputs": [],
   "source": [
    "import sys\n",
    "\n",
    "print('sys.argv : ', sys.argv)\n",
    "print('type(sys.argv) : ', type(sys.argv))\n",
    "print('len(sys.argv) : ', len(sys.argv))\n",
    "\n",
    "print()\n",
    "\n",
    "print('sys.argv[0] : ', sys.argv[0])\n",
    "print('sys.argv[1] : ', sys.argv[1])\n",
    "print('sys.argv[2] : ', sys.argv[2])\n",
    "print('type(sys.argv[0]) : ', type(sys.argv[0]))\n",
    "print('type(sys.argv[1]) : ', type(sys.argv[1]))\n",
    "print('type(sys.argv[2]) : ', type(sys.argv[2]))"
   ]
  }
 ],
 "metadata": {
  "kernelspec": {
   "display_name": "Python 3",
   "language": "python",
   "name": "python3"
  },
  "language_info": {
   "codemirror_mode": {
    "name": "ipython",
    "version": 3
   },
   "file_extension": ".py",
   "mimetype": "text/x-python",
   "name": "python",
   "nbconvert_exporter": "python",
   "pygments_lexer": "ipython3",
   "version": "3.7.3"
  }
 },
 "nbformat": 4,
 "nbformat_minor": 2
}
