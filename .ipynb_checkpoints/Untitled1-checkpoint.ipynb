{
 "cells": [
  {
   "cell_type": "code",
   "execution_count": 43,
   "metadata": {},
   "outputs": [
    {
     "data": {
      "text/plain": [
       "{1: 'a', 2: 'b', 3: 'c', 4: 'd'}"
      ]
     },
     "execution_count": 43,
     "metadata": {},
     "output_type": "execute_result"
    }
   ],
   "source": [
    "def make_dict(A, B):\n",
    "    #辞書を作る処理\n",
    "    Dict = {}\n",
    "#     for p in range(len(A)):\n",
    "#         Dict[A[p]] = B[p]\n",
    "    for x,y in zip(A,B):\n",
    "        Dict[x] = y\n",
    "    return Dict\n",
    "\n",
    "A = [1, 2, 3, 4]\n",
    "B = ['a', 'b', 'c', 'd']\n",
    "\n",
    "make_dict(A, B)"
   ]
  },
  {
   "cell_type": "code",
   "execution_count": 67,
   "metadata": {},
   "outputs": [
    {
     "data": {
      "text/plain": [
       "['aaafbbfccccc']"
      ]
     },
     "execution_count": 67,
     "metadata": {},
     "output_type": "execute_result"
    }
   ],
   "source": [
    "def mojiretu(X):\n",
    "    C = '\\v'.join(X)\n",
    "    D = C.split()\n",
    "    return D\n",
    "\n",
    "A = ['a','b','c','d','e']\n",
    "B = ['aaa','bb','ccccc']\n",
    "\n",
    "mojiretu(B)"
   ]
  },
  {
   "cell_type": "code",
   "execution_count": 103,
   "metadata": {},
   "outputs": [
    {
     "name": "stdout",
     "output_type": "stream",
     "text": [
      "   num string\n",
      "2    2     b2\n"
     ]
    }
   ],
   "source": [
    "import pandas as pd\n",
    "\n",
    "a = [i for i in range(10)]\n",
    "b = ['b' + str(i) for i in range(10)]\n",
    "\n",
    "data = {\n",
    "    'num': a,\n",
    "    'string': b,\n",
    "}\n",
    "\n",
    "df = pd.DataFrame(data)\n",
    "print(df[df['string']=='b2'])"
   ]
  },
  {
   "cell_type": "code",
   "execution_count": 126,
   "metadata": {},
   "outputs": [
    {
     "data": {
      "text/html": [
       "<div>\n",
       "<style scoped>\n",
       "    .dataframe tbody tr th:only-of-type {\n",
       "        vertical-align: middle;\n",
       "    }\n",
       "\n",
       "    .dataframe tbody tr th {\n",
       "        vertical-align: top;\n",
       "    }\n",
       "\n",
       "    .dataframe thead th {\n",
       "        text-align: right;\n",
       "    }\n",
       "</style>\n",
       "<table border=\"1\" class=\"dataframe\">\n",
       "  <thead>\n",
       "    <tr style=\"text-align: right;\">\n",
       "      <th></th>\n",
       "      <th>Date</th>\n",
       "      <th>Open</th>\n",
       "      <th>High</th>\n",
       "      <th>Low</th>\n",
       "      <th>Close</th>\n",
       "      <th>Volume</th>\n",
       "    </tr>\n",
       "  </thead>\n",
       "  <tbody>\n",
       "    <tr>\n",
       "      <th>3</th>\n",
       "      <td>2012-01-10</td>\n",
       "      <td>10870.0</td>\n",
       "      <td>10870.0</td>\n",
       "      <td>10510.0</td>\n",
       "      <td>10540.0</td>\n",
       "      <td>16100.0</td>\n",
       "    </tr>\n",
       "    <tr>\n",
       "      <th>4</th>\n",
       "      <td>2012-01-11</td>\n",
       "      <td>10490.0</td>\n",
       "      <td>10540.0</td>\n",
       "      <td>10410.0</td>\n",
       "      <td>10420.0</td>\n",
       "      <td>15000.0</td>\n",
       "    </tr>\n",
       "    <tr>\n",
       "      <th>5</th>\n",
       "      <td>2012-01-12</td>\n",
       "      <td>10430.0</td>\n",
       "      <td>10580.0</td>\n",
       "      <td>10420.0</td>\n",
       "      <td>10460.0</td>\n",
       "      <td>12200.0</td>\n",
       "    </tr>\n",
       "    <tr>\n",
       "      <th>6</th>\n",
       "      <td>2012-01-13</td>\n",
       "      <td>10460.0</td>\n",
       "      <td>10460.0</td>\n",
       "      <td>10160.0</td>\n",
       "      <td>10340.0</td>\n",
       "      <td>18500.0</td>\n",
       "    </tr>\n",
       "    <tr>\n",
       "      <th>7</th>\n",
       "      <td>2012-01-16</td>\n",
       "      <td>10300.0</td>\n",
       "      <td>10500.0</td>\n",
       "      <td>10290.0</td>\n",
       "      <td>10360.0</td>\n",
       "      <td>11200.0</td>\n",
       "    </tr>\n",
       "  </tbody>\n",
       "</table>\n",
       "</div>"
      ],
      "text/plain": [
       "        Date     Open     High      Low    Close   Volume\n",
       "3 2012-01-10  10870.0  10870.0  10510.0  10540.0  16100.0\n",
       "4 2012-01-11  10490.0  10540.0  10410.0  10420.0  15000.0\n",
       "5 2012-01-12  10430.0  10580.0  10420.0  10460.0  12200.0\n",
       "6 2012-01-13  10460.0  10460.0  10160.0  10340.0  18500.0\n",
       "7 2012-01-16  10300.0  10500.0  10290.0  10360.0  11200.0"
      ]
     },
     "execution_count": 126,
     "metadata": {},
     "output_type": "execute_result"
    }
   ],
   "source": [
    "import datetime as dt\n",
    "import pandas as pd\n",
    "\n",
    "df = pd.read_csv('Nintendo.csv')\n",
    "df['Date'] = pd.to_datetime(df['Date'])\n",
    "df[(df['Date'] >= dt.datetime(2012,1,10)) & (df['Date'] <= dt.datetime(2012,1,16))]"
   ]
  },
  {
   "cell_type": "code",
   "execution_count": null,
   "metadata": {
    "scrolled": true
   },
   "outputs": [],
   "source": []
  },
  {
   "cell_type": "code",
   "execution_count": null,
   "metadata": {},
   "outputs": [],
   "source": []
  }
 ],
 "metadata": {
  "kernelspec": {
   "display_name": "Python 3",
   "language": "python",
   "name": "python3"
  },
  "language_info": {
   "codemirror_mode": {
    "name": "ipython",
    "version": 3
   },
   "file_extension": ".py",
   "mimetype": "text/x-python",
   "name": "python",
   "nbconvert_exporter": "python",
   "pygments_lexer": "ipython3",
   "version": "3.7.3"
  }
 },
 "nbformat": 4,
 "nbformat_minor": 2
}
